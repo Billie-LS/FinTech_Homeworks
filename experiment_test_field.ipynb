{
 "cells": [
  {
   "cell_type": "code",
   "execution_count": 1,
   "id": "bfee5dc6-3740-4b2c-8769-9f20a89f033e",
   "metadata": {},
   "outputs": [],
   "source": [
    "import pandas as pd\n",
    "from pandas import read_csv as rcsv\n",
    "from pandas import DataFrame as wdf\n",
    "import numpy as np\n",
    "\n",
    "from pathlib import Path\n",
    "\n",
    "%matplotlib inline"
   ]
  },
  {
   "cell_type": "code",
   "execution_count": 2,
   "id": "8306a694-d4a3-4f64-a2b0-9bc9988d4c02",
   "metadata": {},
   "outputs": [],
   "source": [
    "bitstamp = rcsv(\n",
    "    Path('Resources/bitstamp.csv'),\n",
    "    index_col='Timestamp',\n",
    "    parse_dates=True,\n",
    "    infer_datetime_format=True\n",
    ")"
   ]
  },
  {
   "cell_type": "code",
   "execution_count": 3,
   "id": "bbc6e914-e3d5-4706-9b3a-7b576c05f699",
   "metadata": {},
   "outputs": [
    {
     "ename": "AttributeError",
     "evalue": "'DataFrame' object has no attribute 'index_col'",
     "output_type": "error",
     "traceback": [
      "\u001b[0;31m---------------------------------------------------------------------------\u001b[0m",
      "\u001b[0;31mAttributeError\u001b[0m                            Traceback (most recent call last)",
      "\u001b[0;32m/var/folders/t7/x7q1pbqj4ss8841vmphkd2v00000gn/T/ipykernel_56923/249029450.py\u001b[0m in \u001b[0;36m<module>\u001b[0;34m\u001b[0m\n\u001b[1;32m      4\u001b[0m \u001b[0;34m\u001b[0m\u001b[0m\n\u001b[1;32m      5\u001b[0m \u001b[0;31m#bitstamp.set_index(['Timestamp':'Date'])\u001b[0m\u001b[0;34m\u001b[0m\u001b[0;34m\u001b[0m\u001b[0;34m\u001b[0m\u001b[0m\n\u001b[0;32m----> 6\u001b[0;31m bitstamp = bitstamp.index_col.rename(columns={\n\u001b[0m\u001b[1;32m      7\u001b[0m     \u001b[0;34m'Timestamp'\u001b[0m\u001b[0;34m:\u001b[0m \u001b[0;34m'Date'\u001b[0m\u001b[0;34m\u001b[0m\u001b[0;34m\u001b[0m\u001b[0m\n\u001b[1;32m      8\u001b[0m })\n",
      "\u001b[0;32m/opt/anaconda3/envs/jupyterlab_dev/lib/python3.7/site-packages/pandas/core/generic.py\u001b[0m in \u001b[0;36m__getattr__\u001b[0;34m(self, name)\u001b[0m\n\u001b[1;32m   5485\u001b[0m         ):\n\u001b[1;32m   5486\u001b[0m             \u001b[0;32mreturn\u001b[0m \u001b[0mself\u001b[0m\u001b[0;34m[\u001b[0m\u001b[0mname\u001b[0m\u001b[0;34m]\u001b[0m\u001b[0;34m\u001b[0m\u001b[0;34m\u001b[0m\u001b[0m\n\u001b[0;32m-> 5487\u001b[0;31m         \u001b[0;32mreturn\u001b[0m \u001b[0mobject\u001b[0m\u001b[0;34m.\u001b[0m\u001b[0m__getattribute__\u001b[0m\u001b[0;34m(\u001b[0m\u001b[0mself\u001b[0m\u001b[0;34m,\u001b[0m \u001b[0mname\u001b[0m\u001b[0;34m)\u001b[0m\u001b[0;34m\u001b[0m\u001b[0;34m\u001b[0m\u001b[0m\n\u001b[0m\u001b[1;32m   5488\u001b[0m \u001b[0;34m\u001b[0m\u001b[0m\n\u001b[1;32m   5489\u001b[0m     \u001b[0;32mdef\u001b[0m \u001b[0m__setattr__\u001b[0m\u001b[0;34m(\u001b[0m\u001b[0mself\u001b[0m\u001b[0;34m,\u001b[0m \u001b[0mname\u001b[0m\u001b[0;34m:\u001b[0m \u001b[0mstr\u001b[0m\u001b[0;34m,\u001b[0m \u001b[0mvalue\u001b[0m\u001b[0;34m)\u001b[0m \u001b[0;34m->\u001b[0m \u001b[0;32mNone\u001b[0m\u001b[0;34m:\u001b[0m\u001b[0;34m\u001b[0m\u001b[0;34m\u001b[0m\u001b[0m\n",
      "\u001b[0;31mAttributeError\u001b[0m: 'DataFrame' object has no attribute 'index_col'"
     ]
    }
   ],
   "source": [
    "\"\"\"bitstamp = bitstamp.rename(columns={\n",
    "    'Timestamp': 'Date'\n",
    "})\"\"\"\n",
    "\n",
    "#bitstamp.set_index(['Timestamp':'Date'])\n",
    "bitstamp = bitstamp.index_col.rename(columns={\n",
    "    'Timestamp': 'Date'\n",
    "})\n"
   ]
  },
  {
   "cell_type": "code",
   "execution_count": null,
   "id": "841520e0-8f46-4def-af29-e57c54243a42",
   "metadata": {},
   "outputs": [],
   "source": [
    "display(bitstamp.head())\n",
    "display(bitstamp.tail())"
   ]
  },
  {
   "cell_type": "code",
   "execution_count": null,
   "id": "2d343996-0cb8-44cb-9a96-08b040a5777e",
   "metadata": {},
   "outputs": [],
   "source": []
  },
  {
   "cell_type": "code",
   "execution_count": null,
   "id": "475ef4f3-d3b7-4c08-84ac-d741b1f33485",
   "metadata": {},
   "outputs": [],
   "source": []
  },
  {
   "cell_type": "code",
   "execution_count": null,
   "id": "e3e88f52-7d7e-4517-850a-d9dc6e7357a0",
   "metadata": {},
   "outputs": [],
   "source": []
  },
  {
   "cell_type": "code",
   "execution_count": null,
   "id": "1a63da05-d425-403c-b847-c4dc0db80672",
   "metadata": {},
   "outputs": [],
   "source": [
    "# identify data types\n",
    "display(coinbase.dtypes)"
   ]
  },
  {
   "cell_type": "code",
   "execution_count": null,
   "id": "e0208eb4-5a41-40a3-9960-0df750af41bc",
   "metadata": {},
   "outputs": [],
   "source": [
    "# quantify presence of NaN values\n",
    "display(coinbase.isnull().sum())\n",
    "display(coinbase.isnull().mean())\n",
    "display(coinbase.isnull())"
   ]
  },
  {
   "cell_type": "code",
   "execution_count": null,
   "id": "cb6c3354-ce61-40aa-ba40-e9b86f3cf72e",
   "metadata": {},
   "outputs": [],
   "source": [
    "# For the bitstamp DataFrame, replace or drop all NaNs or missing values in the DataFrame\n",
    "# option 1\n",
    "coinbase_replace_z = coinbase.fillna(0)\n",
    "display(coinbase_replace_z.isnull().sum())\n",
    "display(coinbase_replace_z.isnull().mean())"
   ]
  },
  {
   "cell_type": "code",
   "execution_count": null,
   "id": "bb0a2f37-7cbc-4a9f-a5fe-2009bb2b787c",
   "metadata": {},
   "outputs": [],
   "source": [
    "# For the bitstamp DataFrame, replace or drop all NaNs or missing values in the DataFrame\n",
    "# option 2\n",
    "coinbase_replace_m = coinbase.fillna(coinbase.mean())\n",
    "display(coinbase_replace_m.isnull().sum())\n",
    "display(coinbase_replace_m.isnull().mean())"
   ]
  },
  {
   "cell_type": "code",
   "execution_count": null,
   "id": "8c24eb38-c375-4573-8615-e2aaaaebabb0",
   "metadata": {},
   "outputs": [],
   "source": [
    "# For the bitstamp DataFrame, replace or drop all NaNs or missing values in the DataFrame\n",
    "# option 3\n",
    "coinbase_replace_u = coinbase.fillna('Unknown')\n",
    "display(coinbase_replace_u.isnull().sum())\n",
    "display(coinbase_replace_u.isnull().mean())"
   ]
  },
  {
   "cell_type": "code",
   "execution_count": null,
   "id": "26b9dc1b-58a6-4945-b271-f8fcf749ca99",
   "metadata": {},
   "outputs": [],
   "source": [
    "# For the bitstamp DataFrame, replace or drop all NaNs or missing values in the DataFrame\n",
    "# option 4\n",
    "coinbase_drop_na = coinbase.dropna()\n",
    "display(coinbase_drop_na.isnull().sum())\n",
    "display(coinbase_drop_na.isnull().mean())"
   ]
  },
  {
   "cell_type": "code",
   "execution_count": null,
   "id": "2094fef4-10c2-44d5-bd80-5c6925cfe25d",
   "metadata": {},
   "outputs": [],
   "source": [
    "# Use the str.replace function to remove the dollar sign, $\n",
    "\n",
    "coinbase_replace_z.loc[:, 'Close'] = coinbase_replace_z.loc[:, 'Close'].str.replace('$', '')\n",
    "display(coinbase_replace_z.head())\n",
    "\n",
    "coinbase_replace_m.loc[:, 'Close'] = coinbase_replace_m.loc[:, 'Close'].str.replace('$', '')\n",
    "display(coinbase_replace_m.head())\n",
    "\n",
    "coinbase_replace_u.loc[:, 'Close'] = coinbase_replace_u.loc[:, 'Close'].str.replace('$', '')\n",
    "display(coinbase_replace_u.head())\n",
    "\n",
    "coinbase_drop_na.loc[:, 'Close'] = coinbase_drop_na.loc[:, 'Close'].str.replace('$', '')\n",
    "display(bcoinbase_drop_na.head())"
   ]
  },
  {
   "cell_type": "code",
   "execution_count": null,
   "id": "13907c63-9891-4efb-aa16-c523ce8967b2",
   "metadata": {},
   "outputs": [],
   "source": [
    "# Convert the Close data type to a float\n",
    "\n",
    "coinbase_replace_z.loc[:, 'Close'] = coinbase_replace_z.loc[:, 'Close'].astype('float')\n",
    "display(bitstamp_replace_z.dtypes)\n",
    "\n",
    "coinbase_replace_m.loc[:, 'Close'] = coinbase_replace_m.loc[:, 'Close'].astype('float')\n",
    "display(bitstamp_replace_m.dtypes)\n",
    "\n",
    "coinbase_replace_u.loc[:, 'Close'] = coinbase_replace_u.loc[:, 'Close'].astype('float')\n",
    "display(bitstamp_replace_u.dtypes)\n",
    "\n",
    "coinbase_drop_na.loc[:, 'Close'] = coinbase_drop_na.loc[:, 'Close'].astype('float')\n",
    "display(bitstamp_drop_na.dtypes)\n"
   ]
  },
  {
   "cell_type": "code",
   "execution_count": null,
   "id": "1e95c005-40ad-416e-8924-0f972f8118fe",
   "metadata": {},
   "outputs": [],
   "source": [
    "# Review the data for duplicate values, and drop them if necessary\n",
    "\n",
    "display(coinbase_replace_z.duplicated().sum())\n",
    "\n",
    "display(coinbase_replace_m.duplicated().sum())\n",
    "\n",
    "display(coinbase_replace_u.duplicated().sum())\n",
    "\n",
    "display(coinbase_drop_na.duplicated().sum())\n"
   ]
  },
  {
   "cell_type": "code",
   "execution_count": null,
   "id": "de58931e-9449-4cc5-92bd-36722a31c816",
   "metadata": {},
   "outputs": [],
   "source": []
  },
  {
   "cell_type": "code",
   "execution_count": null,
   "id": "bca6bfae-29e0-4979-a1b0-1bd581ec9fe6",
   "metadata": {},
   "outputs": [],
   "source": []
  }
 ],
 "metadata": {
  "kernelspec": {
   "display_name": "Python (jupyterlab_dev)",
   "language": "python",
   "name": "jupyterlab_dev"
  },
  "language_info": {
   "codemirror_mode": {
    "name": "ipython",
    "version": 3
   },
   "file_extension": ".py",
   "mimetype": "text/x-python",
   "name": "python",
   "nbconvert_exporter": "python",
   "pygments_lexer": "ipython3",
   "version": "3.7.13"
  }
 },
 "nbformat": 4,
 "nbformat_minor": 5
}
