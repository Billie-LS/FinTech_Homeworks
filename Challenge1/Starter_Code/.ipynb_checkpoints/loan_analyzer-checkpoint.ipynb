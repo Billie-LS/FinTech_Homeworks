{
 "cells": [
  {
   "cell_type": "code",
   "execution_count": 1,
   "id": "28d03e17-98c6-4f47-9554-70168d567789",
   "metadata": {},
   "outputs": [],
   "source": [
    "# coding: utf-8\n",
    "\n",
    "import csv                # importing csv library\n",
    "import statistics         # alternative for use with 'averages' via statistics.mean()\n",
    "\"\"\" import pathlib            # importing pathlib library - potentially redundant, but boot-suspenders style \"\"\"\n",
    "from pathlib import Path  # importing 'Path' tool from pathlib"
   ]
  },
  {
   "cell_type": "code",
   "execution_count": 2,
   "id": "4d7204d1-6cd7-45b4-8c80-a66e7fe5d90b",
   "metadata": {},
   "outputs": [
    {
     "data": {
      "text/plain": [
       "\"Part 1: Automate the Calculations.\\n\\nAutomate the calculations for the loan portfolio summaries.\\n\\nFirst, let's start with some calculations on a list of prices for 5 loans.\\n    1. Use the `len` function to calculate the total number of loans in the list.\\n    2. Use the `sum` function to calculate the total of all loans in the list.\\n    3. Using the sum of all loans and the total number of loans, calculate the average loan price.\\n    4. Print all calculations with descriptive messages.\\n\""
      ]
     },
     "execution_count": 2,
     "metadata": {},
     "output_type": "execute_result"
    }
   ],
   "source": [
    "\"\"\"Part 1: Automate the Calculations.\n",
    "\n",
    "Automate the calculations for the loan portfolio summaries.\n",
    "\n",
    "First, let's start with some calculations on a list of prices for 5 loans.\n",
    "    1. Use the `len` function to calculate the total number of loans in the list.\n",
    "    2. Use the `sum` function to calculate the total of all loans in the list.\n",
    "    3. Using the sum of all loans and the total number of loans, calculate the average loan price.\n",
    "    4. Print all calculations with descriptive messages.\n",
    "\"\"\""
   ]
  },
  {
   "cell_type": "code",
   "execution_count": 3,
   "id": "043eb88e-8cbe-42ba-8c12-35180e495b25",
   "metadata": {},
   "outputs": [
    {
     "name": "stdout",
     "output_type": "stream",
     "text": [
      "The total number of loans is 5\n"
     ]
    }
   ],
   "source": [
    "loan_costs = [500, 600, 200, 1000, 450]   # ~ simple list\n",
    "\n",
    "# How many loans are in the list?\n",
    "# @TODO: Use the `len` function to calculate the total number of loans in the list.\n",
    "# Print the number of loans from the list\n",
    "number_of_loans = len(loan_costs)\n",
    "# use f-string to use variable to input the value, number of loans is integer and not monetary value\n",
    "print(f'The total number of loans is {number_of_loans}')"
   ]
  },
  {
   "cell_type": "code",
   "execution_count": 4,
   "id": "103b8eaf-dcda-494d-be23-511b72b88664",
   "metadata": {},
   "outputs": [
    {
     "name": "stdout",
     "output_type": "stream",
     "text": [
      "The sum of all loans is $2750.00\n",
      "The sum of all loans is $2750\n"
     ]
    }
   ],
   "source": [
    "# What is the total amount of all loans?\n",
    "# @TODO: Use the `sum` function to calculate the total of all loans in the list.\n",
    "# Print the total value of the loans\n",
    "sum_of_loans = sum(loan_costs)\n",
    "print(f'The sum of all loans is ${sum_of_loans:.2f}')        # use f-string to use variable to input the value, specify fixed 2 decimal places = The sum of all loans is $2750.00\n",
    "\n",
    "print(f'The sum of all loans is ${round(sum_of_loans, 2)}')  # alternate syntax within f-string using round() and specify up to 2 decimal = The sum of all loans is $2750"
   ]
  },
  {
   "cell_type": "code",
   "execution_count": 5,
   "id": "a5f81959-b335-4515-8ff8-a060aa46baee",
   "metadata": {},
   "outputs": [
    {
     "name": "stdout",
     "output_type": "stream",
     "text": [
      "The average loan cost is $550.00\n",
      "The average loan cost is $550\n"
     ]
    }
   ],
   "source": [
    "# What is the average loan amount from the list?\n",
    "# @TODO: Using the sum of all loans and the total number of loans, calculate the average loan price.\n",
    "# Print the average loan amount\n",
    "average_loan_price = sum_of_loans / number_of_loans\n",
    "print(f'The average loan cost is ${average_loan_price:.2f}') # use f-string to use variable to input the value, specify fixed 2 decimal places = The average loan cost is $550.00\n",
    "\n",
    "average_loan_price = statistics.mean(loan_costs)              # alternate syntax using import statistics, statistics.mean()\n",
    "print(f'The average loan cost is ${round(average_loan_price, 2)}')  # use f-string to use variable to input the value, round() with possible 2 decimal places = The average loan cost is $550"
   ]
  },
  {
   "cell_type": "code",
   "execution_count": 6,
   "id": "fce55675-c876-4d8b-b825-fafde1c96b58",
   "metadata": {},
   "outputs": [
    {
     "data": {
      "text/plain": [
       "'Part 2: Analyze Loan Data.\\n\\nAnalyze the loan to determine the investment evaluation.\\n\\nUsing more detailed data on one of these loans, \\nfollow these steps to calculate a Present Value, or a \"fair price\" for what this loan would be worth.\\n\\n1. Use get() on the dictionary of additional information to extract the **Future Value** and **Remaining Months** on the loan.\\n    a. Save these values as variables called `future_value` and `remaining_months`.\\n    b. Print each variable.\\n\\n    @NOTE:\\n    **Future Value**: The amount of money the borrower has to pay back upon maturity of the loan (a.k.a. \"Face Value\")\\n    **Remaining Months**: The remaining maturity (in months) before the loan needs to be fully repaid.\\n\\n2. Use the formula for Present Value to calculate a \"fair value\" of the loan. Use a minimum required return of 20% as the discount rate.\\n3. Write a conditional statement (an if-else statement) to decide if the present value represents the loan\\'s fair value.\\n    a. If the present value of the loan is greater than or equal to the cost, then print a message that says the loan is worth at least the cost to buy it.\\n    b. Else, the present value of the loan is less than the loan cost, then print a message that says that the loan is too expensive and not worth the price.\\n\\n    @NOTE:\\n    If Present Value represents the loan\\'s fair value (given the required minimum return of 20%), does it make sense to buy the loan at its current cost?\\n'"
      ]
     },
     "execution_count": 6,
     "metadata": {},
     "output_type": "execute_result"
    }
   ],
   "source": [
    "\"\"\"Part 2: Analyze Loan Data.\n",
    "\n",
    "Analyze the loan to determine the investment evaluation.\n",
    "\n",
    "Using more detailed data on one of these loans, \n",
    "follow these steps to calculate a Present Value, or a \"fair price\" for what this loan would be worth.\n",
    "\n",
    "1. Use get() on the dictionary of additional information to extract the **Future Value** and **Remaining Months** on the loan.\n",
    "    a. Save these values as variables called `future_value` and `remaining_months`.\n",
    "    b. Print each variable.\n",
    "\n",
    "    @NOTE:\n",
    "    **Future Value**: The amount of money the borrower has to pay back upon maturity of the loan (a.k.a. \"Face Value\")\n",
    "    **Remaining Months**: The remaining maturity (in months) before the loan needs to be fully repaid.\n",
    "\n",
    "2. Use the formula for Present Value to calculate a \"fair value\" of the loan. Use a minimum required return of 20% as the discount rate.\n",
    "3. Write a conditional statement (an if-else statement) to decide if the present value represents the loan's fair value.\n",
    "    a. If the present value of the loan is greater than or equal to the cost, then print a message that says the loan is worth at least the cost to buy it.\n",
    "    b. Else, the present value of the loan is less than the loan cost, then print a message that says that the loan is too expensive and not worth the price.\n",
    "\n",
    "    @NOTE:\n",
    "    If Present Value represents the loan's fair value (given the required minimum return of 20%), does it make sense to buy the loan at its current cost?\n",
    "\"\"\""
   ]
  },
  {
   "cell_type": "code",
   "execution_count": 7,
   "id": "5fc60822-0dac-477d-970c-a28a4d2af376",
   "metadata": {},
   "outputs": [],
   "source": [
    "# Given the following loan data, you will need to calculate the present value for the loan\n",
    "# present value formula = future_value / (1 + Discount_Rate) ** time   # where time = years and discount_Rate = ~'annual_hurdle_rate'\n",
    "# future value formula = present_value * (1 + Discount_Rate) ** time\n",
    "\n",
    "# adjusting for 'monthly precision' ->  present_value = future_value / (1 + discount_Rate / 12) ** remaining_months\n",
    "# adjusting for 'monthly precision' ->  future_value = present_value * (1 + discount_Rate / 12) ** remaining_months\n",
    "# provided in instructions, discount rate = 20% = 0.20\n",
    "\n",
    "# A 'bullet' is a one-time lump-sum repayment of an outstanding loan made by the borrower\n",
    "# A bullet transaction = loan requires the principal balance to be paid in full when it matures"
   ]
  },
  {
   "cell_type": "code",
   "execution_count": 8,
   "id": "cda39af1-a0e5-4265-bed3-68e0b50c5985",
   "metadata": {},
   "outputs": [],
   "source": [
    "loan = {                                    # dictionary\n",
    "    \"loan_price\": 500,\n",
    "    \"remaining_months\": 9,\n",
    "    \"repayment_interval\": \"bullet\",\n",
    "    \"future_value\": 1000,\n",
    "}\n",
    "\n",
    "# 1000 = present_value * (1 + 0.20 / 12)** remaining_months"
   ]
  },
  {
   "cell_type": "code",
   "execution_count": 9,
   "id": "359e4986-92aa-4633-8e0f-51681ff966cd",
   "metadata": {},
   "outputs": [
    {
     "name": "stdout",
     "output_type": "stream",
     "text": [
      "1000\n",
      "9\n",
      "the future value is $1000\n",
      "the remaining months are 9\n"
     ]
    }
   ],
   "source": [
    "# @TODO: Use get() on the dictionary of additional information to extract the Future Value and Remaining Months on the loan.\n",
    "# Print each variable.\n",
    "future_value = loan.get('future_value')                     # .get() returns the value of the key, 'future_value' and assigns to variable future_value\n",
    "remaining_months = loan.get('remaining_months')             # .get() returns the value of the key, 'remaining_months' and assigns to variable remaining_months\n",
    "\n",
    "print(future_value)                                         # simple print value of variable, future_value to output = 1000\n",
    "print(remaining_months)                                     # simple print value of variable, remaining_months to output = 9\n",
    "\n",
    "print(f'the future value is ${round(future_value, 2)}')     # f-string using round() to print value of variable and specify up to 2 decimal = the future value is $1000\n",
    "print(f'the remaining months are {remaining_months}')       # use f-string to print value of variable, remaining_months to output = the remaining months are 9"
   ]
  },
  {
   "cell_type": "code",
   "execution_count": 10,
   "id": "b072a0c2-50ef-4dbe-bb1b-1df94b16915e",
   "metadata": {},
   "outputs": [
    {
     "name": "stdout",
     "output_type": "stream",
     "text": [
      "the fair value is $861.77\n"
     ]
    }
   ],
   "source": [
    "# @TODO: Use the formula for Present Value to calculate a \"fair value\" of the loan.\n",
    "# Use a minimum required return of 20% as the discount rate.\n",
    "#   You'll want to use the **monthly** version of the present value formula.\n",
    "#   HINT: Present Value = Future Value / (1 + discount_rate/12) ** remaining_months\n",
    "\n",
    "annual_discount_rate = 0.20\n",
    "hurdle_rate = annual_discount_rate\n",
    "present_value = future_value / (1 + hurdle_rate / 12) ** remaining_months  # 'monthly precision' present value formula which uses variables future_value, hurdle_rate, and remaining_months whose values have been retrieved from dictionary using get()\n",
    "print(f'the fair value is ${present_value:.2f}')                           # prints to output "
   ]
  },
  {
   "cell_type": "code",
   "execution_count": 11,
   "id": "e0afa5c0-bc67-41d3-bfb1-093ba6007cab",
   "metadata": {},
   "outputs": [],
   "source": [
    "# alternative approach to number 2 -> using functions for potential larger scale, repetitive operations\n",
    "# add key:value pair for hurdle_rate to dictionary\n",
    "# use get() to obtain assign value from dictionary to variable hurdle_rate\n",
    "# use variable preesent_value\n",
    "\n",
    "# define a THREE parameter function, present_value_fxn(1, 2, 3) that-\n",
    "#           accepts the parameters/argumets using variables future_value, annual_discount_rate, and remaining_months; the values of which have obtain per previous\n",
    "#           calculates the present value of the loan in the dictionary using the previously declared variable, present_value with value equals the present value formula\n",
    "#                     enables change between yearly vs monthly precision without enterring the body of function\n",
    "#           prints to output using f-string, the result of present value calculation = the fair value is $861.77\n",
    "#           returns the calculation result making assignment to variable an option....\n",
    "def present_value_fxn(future_value, annual_discount_rate, remaining_months):\n",
    "    present_value_calc = present_value                      # variable, present_value has global scope previously defined as the 'monthly precision' present value formula\n",
    "    print(f'directly from the function - the fair value is ${present_value_calc:.2f}')\n",
    "    return present_value_calc\n",
    "\n",
    "\n",
    "# define a TWO parameter function, present_value_fxn_a(1, 2) that-\n",
    "#           accepts the parameters/argumets using variables loan and annual_discount_rate; the values of which have obtain per previous\n",
    "#           calculates the present value of the loan in the dictionary using the previously declared variable, present_value with value equals the present value formula\n",
    "#           prints to output using f-string, the result of present value calculation = the fair value is $861.77\n",
    "#           returns the calculation result making assignment to variable an option....\n",
    "def present_value_fxn_a(loan, annual_discount_rate):\n",
    "    future_value = loan.get('future_value')\n",
    "    remaining_months = loan.get('remaining_months')\n",
    "    present_value_calc = present_value\n",
    "    print(f'directly from the function - the fair value is ${present_value_calc:.2f}')\n",
    "    return present_value_calc\n",
    "\n",
    "\n",
    "#  define a ONE function, present_value_fxn_d() that-\n",
    "#           accepts the variable assigned to the loan dictionary, loan\n",
    "#           utilizes get() in order to obtain the values for keys future_value, hurdle_rate, and remaining_months\n",
    "#           calculates the present value of the loan in the dictionary using the previously declared variable, present_value with value equals the present value formula\n",
    "#           prints to output using f-string, the result of present value calculation = the fair value is $861.77\n",
    "#           returns the calculation result making assignment to variable an option....\n",
    "\n",
    "loan['hurdle_rate'] = annual_discount_rate   # adds key:value pair of 'hurdle_rate': 0.20 into dictionary, thus adding discount rate as a characteristic of the overall loan parmeters\n",
    "\n",
    "def present_value_fxn_b(loan):\n",
    "    future_value = loan.get('future_value')\n",
    "    hurdle_rate = loan.get('hurdle_rate')\n",
    "    remaining_months = loan.get('remaining_months')\n",
    "    present_value_calc = present_value                     \n",
    "    print(f'directly from the function - the fair value is ${present_value_calc:.2f}')\n",
    "    return present_value_calc\n",
    "\n",
    "\n",
    "# define a ONE parameter function, present_value_fxn_c() that-\n",
    "#           accepts the variable assigned to the loan dictionary, loan \n",
    "#           utilizes get() in order to obtain the values for keys future_value, hurdle_rate, and remaining_months\n",
    "#           calculates, within the body of the function, the present value of the loan in the dictionary\n",
    "#           prints to output using f-string, the result of present value calculation = the fair value is $861.77\n",
    "#           returns the calculation result making assignment to variable an option....\n",
    "\n",
    "def present_value_fxn_c(loan):\n",
    "    future_value = loan.get('future_value')\n",
    "    hurdle_rate = loan.get('hurdle_rate')\n",
    "    remaining_months = loan.get('remaining_months')\n",
    "    present_value_calc = future_value / (1 + hurdle_rate / 12) ** remaining_months    # moving the 'monthly precision' present value formula into the body of the function\n",
    "    print(f'directly from the function - the fair value is ${present_value_calc:.2f}')\n",
    "    return present_value_calc"
   ]
  },
  {
   "cell_type": "code",
   "execution_count": 12,
   "id": "19b12f39-fcec-497e-9d35-a328861a40d4",
   "metadata": {},
   "outputs": [
    {
     "name": "stdout",
     "output_type": "stream",
     "text": [
      "directly from the function - the fair value is $861.77\n",
      "function call print - the fair value is $861.77\n",
      "directly from the function - the fair value is $861.77\n",
      "a_function call print - the fair value is $861.77\n",
      "directly from the function - the fair value is $861.77\n",
      "b_function call print - the fair value is $861.77\n",
      "directly from the function - the fair value is $861.77\n",
      "c_function call print - the fair value is $861.77\n"
     ]
    }
   ],
   "source": [
    "# use the alternate aproaches, i.e. use/'call' the functions\n",
    "# THREE parameter function call\n",
    "present_value = present_value_fxn(future_value, annual_discount_rate, remaining_months)   # value returned out of the function is assigned to variable present_value\n",
    "print(f'function call print - the fair value is ${present_value:.2f}')                                  # outside of function, prints to output using f-string, the result of present_value_fxn calculations = the fair value is $861.77\n",
    "\n",
    "# TWO parameter function call\n",
    "present_value = present_value_fxn_a(loan, annual_discount_rate)                   # value returned out of the function is assigned to variable present_value\n",
    "print(f'a_function call print - the fair value is ${present_value:.2f}')                                  # outside of function, prints to output using f-string, the result of present_value_fxn_a calculations = the fair value is $861.77\n",
    "\n",
    "#  ONE parameter function call operation - accesses the present value formula via the previously declared variable present_value\n",
    "present_value = present_value_fxn_b(loan)                    # value returned out of the function is assigned to variable present_value\n",
    "print(f'b_function call print - the fair value is ${present_value:.2f}')             # outside of function, prints to output using f-string, the result of present_value_fxn_b calculations = the fair value is $861.77\n",
    "\n",
    "#  ONE parameter function call operation - has the formula for present value within body of function\n",
    "present_value = present_value_fxn_c(loan)                    # value returned out of the function is assigned to variable present_value\n",
    "print(f'c_function call print - the fair value is ${present_value:.2f}')             # outside of function, prints to output using f-string, the result of present_value_fxn_c calculations = the fair value is $861.77 "
   ]
  },
  {
   "cell_type": "code",
   "execution_count": 13,
   "id": "80c6d8c8-3358-4b6f-b141-48bbcb83e603",
   "metadata": {},
   "outputs": [
    {
     "name": "stdout",
     "output_type": "stream",
     "text": [
      "the loan is worth at least the cost to buy it\n",
      "the estimated value of the loan is $861.77\n"
     ]
    }
   ],
   "source": [
    "# If Present Value represents what the loan is really worth, does it make sense to buy the loan at its cost?\n",
    "# @TODO: Write a conditional statement (an if-else statement) to decide if the present value represents the loan's fair value.\n",
    "#    If the present value of the loan is greater than or equal to the cost, then print a message that says the loan is worth at least the cost to buy it.\n",
    "#    Else, the present value of the loan is less than the loan cost, then print a message that says that the loan is too expensive and not worth the price.\n",
    "\n",
    "if present_value >= loan['loan_price']:                                      # primary or main conditional if that compares present_value to the result (i.e. value) when value for key 'loan_price\" is accessed in dictionary.\n",
    "    print('the loan is worth at least the cost to buy it')                  # action to be performed if True\n",
    "    if present_value > loan['loan_price']:                                   # if True, a nested if/else conditional that provides specific value to consider when determining 'fair value'\n",
    "        print(f'the estimated value of the loan is ${present_value:.2f}')\n",
    "    else:\n",
    "        print('the estimated value of the loan is equal to its cost')\n",
    "else:                                                                        # action to be performed if False\n",
    "    print('the loan is too expensive and not worth the price')"
   ]
  },
  {
   "cell_type": "code",
   "execution_count": 14,
   "id": "4256d71f-3bfd-46a8-8917-0ad86c7c8e37",
   "metadata": {},
   "outputs": [
    {
     "data": {
      "text/plain": [
       "'Part 3: Perform Financial Calculations.\\n\\nPerform financial calculations using functions.\\n\\n1. Define a new function that will be used to calculate present value.\\n    a. This function should include parameters for `future_value`, `remaining_months`, and the `annual_discount_rate`\\n    b. The function should return the `present_value` for the loan.\\n2. Use the function to calculate the present value of the new loan given below.\\n    a. Use an `annual_discount_rate` of 0.2 for this new loan calculation.\\n'"
      ]
     },
     "execution_count": 14,
     "metadata": {},
     "output_type": "execute_result"
    }
   ],
   "source": [
    "\"\"\"Part 3: Perform Financial Calculations.\n",
    "\n",
    "Perform financial calculations using functions.\n",
    "\n",
    "1. Define a new function that will be used to calculate present value.\n",
    "    a. This function should include parameters for `future_value`, `remaining_months`, and the `annual_discount_rate`\n",
    "    b. The function should return the `present_value` for the loan.\n",
    "2. Use the function to calculate the present value of the new loan given below.\n",
    "    a. Use an `annual_discount_rate` of 0.2 for this new loan calculation.\n",
    "\"\"\""
   ]
  },
  {
   "cell_type": "code",
   "execution_count": 15,
   "id": "54ee8f10-7107-4489-8871-10d3c25ba23a",
   "metadata": {},
   "outputs": [],
   "source": [
    "# Given the following loan data, you will need to calculate the present value for the loan\n",
    "new_loan = {\n",
    "    \"loan_price\": 800,\n",
    "    \"remaining_months\": 12,\n",
    "    \"repayment_interval\": \"bullet\",\n",
    "    \"future_value\": 1000,\n",
    "}"
   ]
  },
  {
   "cell_type": "code",
   "execution_count": 16,
   "id": "aa020686-78cd-4136-a7b8-3caa9d73dcd1",
   "metadata": {},
   "outputs": [],
   "source": [
    "# @TODO: Define a new function that will be used to calculate present value.\n",
    "#    This function should include parameters for `future_value`, `remaining_months`, and the `annual_discount_rate`\n",
    "#                HINT: Present Value = Future Value / (1 + Discount_Rate/12) ** remaining_months \n",
    "#    The function should return the `present_value` for the loan.\n",
    "\n",
    "# define a function, present_value_fxn() that-\n",
    "#           accepts the parameters/argumets using three variables- future_value, hurdle_rate, and remaining_months ; values as assigned per notation above\n",
    "#           calculates the present value of the loan in the dictionary using monthly precision present value formula\n",
    "#           returns the present value calculation and assigns within function to present_value\n",
    "\n",
    "def a_present_value(future_value, remaining_months, annual_discount_rate):\n",
    "    present_value = future_value / (1 + annual_discount_rate/12) ** remaining_months\n",
    "    return present_value\n",
    "\n",
    "\n",
    "# define an alternate function, b_present_value() that-\n",
    "#           accepts two parameters- values assigned to the keys of entire loan dictionary new_loan and annual_discount_rate; value as assigned per notation above \n",
    "#           utilizes get() in order to obtain the values for keys future_value and remaining_months\n",
    "#           calculates the present value of the loan in the dictionary\n",
    "#           prints to output using f-string, the result of present value calculation = the fair value is 861.77\n",
    "#           returns the calculation result making assignment to variable an option....\n",
    "\n",
    "def b_present_value(new_loan, annual_discount_rate):\n",
    "    future_value = new_loan.get('future_value')\n",
    "    remaining_months = new_loan.get('remaining_months')\n",
    "    present_value = future_value / (1 + annual_discount_rate/12) ** remaining_months\n",
    "    return present_value\n",
    "\n",
    "\n",
    "# define an alternate function, b_present_value() that-\n",
    "#           accepts a single parameters- entire loan dictionary new_loan \n",
    "#           utilizes get() in order to obtain the values for keys future_value, annual_discount_rate, and remaining_months\n",
    "#           calculates the present value of the loan in the dictionary\n",
    "#           prints to output using f-string, the result of present value calculation = the fair value is 861.77\n",
    "#           returns the calculation result making assignment to variable an option....\n",
    "\n",
    "\n",
    "def c_present_value(new_loan):\n",
    "    future_value = new_loan.get('future_value')\n",
    "    remaining_months = new_loan.get('remaining_months')\n",
    "    annual_discount_rate = new_loan.get('annual_discount_rate')\n",
    "    present_value = future_value / (1 + annual_discount_rate/12) ** remaining_months\n",
    "    return present_value"
   ]
  },
  {
   "cell_type": "code",
   "execution_count": 17,
   "id": "c5c19f0d-ed85-4f11-abc7-7375ce13d4b0",
   "metadata": {},
   "outputs": [
    {
     "name": "stdout",
     "output_type": "stream",
     "text": [
      "with 3 parameter function, the present value is $820.08\n",
      "with 2 parameter function, the present value is $820.08\n",
      "with 1 parameter function, the present value is $820.08\n"
     ]
    }
   ],
   "source": [
    "# @TODO: Use the function to calculate the present value of the new loan given below.\n",
    "#    Use an `annual_discount_rate` of 0.2 for this new loan calculation.\n",
    "\n",
    "\n",
    "# assigning values to variables for proscribed THREE parameters; future_value, remaining_months, and annual_discount_rate \n",
    "\n",
    "annual_discount_rate = 0.20                         # variable annual_discount_rate declared with provided value\n",
    "future_value = new_loan.get('future_value')         # variable future_value declared and assigned value via get() function on library new_loan \n",
    "remaining_months = new_loan.get('remaining_months') # variable remaining_months declared and assigned value via get() function on library new_loan\n",
    "\n",
    "# using 'DRY' principle - 'use the function' = 'call the function' , using the function proscribed by instructions = a_present_value(future_value, remaining_months, annual_discount_rate)\n",
    "present_value_a = a_present_value(future_value, remaining_months, annual_discount_rate) # set variable, present_value_a = the return of the caled THREE paramter/argument function written above\n",
    "print(f'with 3 parameter function, the present value is ${present_value_a:.2f}') # print to output th value of present_value obtained from calling the three paramter/argument function written above\n",
    "\n",
    "\n",
    "#        using the first alternate version of function = b_present_value(new_loan, annual_discount_rate)\n",
    "present_value_b = b_present_value(new_loan, annual_discount_rate) # set variable, present_value_b = the return of the called TWO parameter/argument function written above\n",
    "print(f'with 2 parameter function, the present value is ${present_value_b:.2f}') # print to output the value of present_value_b obtained from calling the TWO paramter/argument function written above\n",
    "\n",
    "\n",
    "#        using the second alternate version of function = c_present_value(new_loan)\n",
    "new_loan['annual_discount_rate'] = annual_discount_rate  # generate new key:value pair in dictionay utilizing variable annual_discount_rate with provided value\n",
    "\n",
    "present_value_c = c_present_value(new_loan) # set variable, present_value_c = the return of the called SINGLE paramter/argument function written above\n",
    "print(f'with 1 parameter function, the present value is ${present_value_c:.2f}') # print to output th value of present_value_c obtained from calling the ONE paramter/argument function written above\n",
    "\n"
   ]
  },
  {
   "cell_type": "code",
   "execution_count": 18,
   "id": "df8ffaa2-f851-4dc9-ac46-35e6c7615ae5",
   "metadata": {},
   "outputs": [
    {
     "data": {
      "text/plain": [
       "'Part 4: Conditionally filter lists of loans.\\n\\nIn this section, you will use a loop to iterate through a series of loans and select only the inexpensive loans.\\n\\n1. Create a new, empty list called `inexpensive_loans`.\\n2. Use a for loop to select each loan from a list of loans.\\n    a. Inside the for loop, write an if-statement to determine if the loan_price is less than or equal to 500\\n    b. If the loan_price is less than or equal to 500 then append that loan to the `inexpensive_loans` list.\\n3. Print the list of inexpensive_loans.\\n'"
      ]
     },
     "execution_count": 18,
     "metadata": {},
     "output_type": "execute_result"
    }
   ],
   "source": [
    "\"\"\"Part 4: Conditionally filter lists of loans.\n",
    "\n",
    "In this section, you will use a loop to iterate through a series of loans and select only the inexpensive loans.\n",
    "\n",
    "1. Create a new, empty list called `inexpensive_loans`.\n",
    "2. Use a for loop to select each loan from a list of loans.\n",
    "    a. Inside the for loop, write an if-statement to determine if the loan_price is less than or equal to 500\n",
    "    b. If the loan_price is less than or equal to 500 then append that loan to the `inexpensive_loans` list.\n",
    "3. Print the list of inexpensive_loans.\n",
    "\"\"\""
   ]
  },
  {
   "cell_type": "code",
   "execution_count": 19,
   "id": "05bf1266-7fec-4649-8710-5534d6765fa5",
   "metadata": {},
   "outputs": [],
   "source": [
    "loans = [\n",
    "    {\n",
    "        \"loan_price\": 700,\n",
    "        \"remaining_months\": 9,\n",
    "        \"repayment_interval\": \"monthly\",\n",
    "        \"future_value\": 1000,\n",
    "    },\n",
    "    {\n",
    "        \"loan_price\": 500,\n",
    "        \"remaining_months\": 13,\n",
    "        \"repayment_interval\": \"bullet\",\n",
    "        \"future_value\": 1000,\n",
    "    },\n",
    "    {\n",
    "        \"loan_price\": 200,\n",
    "        \"remaining_months\": 16,\n",
    "        \"repayment_interval\": \"bullet\",\n",
    "        \"future_value\": 1000,\n",
    "    },\n",
    "    {\n",
    "        \"loan_price\": 900,\n",
    "        \"remaining_months\": 16,\n",
    "        \"repayment_interval\": \"bullet\",\n",
    "        \"future_value\": 1000,\n",
    "    },\n",
    "]"
   ]
  },
  {
   "cell_type": "code",
   "execution_count": 20,
   "id": "42773ad5-1ce5-4779-ad79-0a9136dac436",
   "metadata": {},
   "outputs": [],
   "source": [
    "# @TODO: Create an empty list called `inexpensive_loans`\n",
    "inexpensive_loans = []"
   ]
  },
  {
   "cell_type": "code",
   "execution_count": 21,
   "id": "d8c68f0f-b592-41b8-821d-1cf0bd236cba",
   "metadata": {},
   "outputs": [],
   "source": [
    "# @TODO: Loop through all the loans and append any that cost $500 or less to the `inexpensive_loans` list\n",
    "for cheapies in loans:\n",
    "    if cheapies['loan_price'] <= 500:\n",
    "        inexpensive_loans.append(cheapies)"
   ]
  },
  {
   "cell_type": "code",
   "execution_count": 22,
   "id": "84a8d8a0-c8b4-46b1-ae7f-523e191232d8",
   "metadata": {},
   "outputs": [
    {
     "name": "stdout",
     "output_type": "stream",
     "text": [
      "[{'loan_price': 500, 'remaining_months': 13, 'repayment_interval': 'bullet', 'future_value': 1000}, {'loan_price': 200, 'remaining_months': 16, 'repayment_interval': 'bullet', 'future_value': 1000}]\n"
     ]
    }
   ],
   "source": [
    "# @TODO: Print the `inexpensive_loans` list\n",
    "print(inexpensive_loans)"
   ]
  },
  {
   "cell_type": "code",
   "execution_count": 23,
   "id": "ac649e7c-d804-4db7-a1c1-42898b6cba71",
   "metadata": {},
   "outputs": [
    {
     "data": {
      "text/plain": [
       "'Part 5: Save the results.\\n\\nOutput this list of inexpensive loans to a csv file\\n    1. Use `with open` to open a new CSV file.\\n        a. Create a `csvwriter` using the `csv` library.\\n        b. Use the new csvwriter to write the header variable as the first row.\\n        c. Use a for loop to iterate through each loan in `inexpensive_loans`.\\n            i. Use the csvwriter to write the `loan.values()` to a row in the CSV file.\\n\\n    Hint: Refer to the official documentation for the csv library.\\n    https://docs.python.org/3/library/csv.html#writer-objects\\n'"
      ]
     },
     "execution_count": 23,
     "metadata": {},
     "output_type": "execute_result"
    }
   ],
   "source": [
    "\"\"\"Part 5: Save the results.\n",
    "\n",
    "Output this list of inexpensive loans to a csv file\n",
    "    1. Use `with open` to open a new CSV file.\n",
    "        a. Create a `csvwriter` using the `csv` library.\n",
    "        b. Use the new csvwriter to write the header variable as the first row.\n",
    "        c. Use a for loop to iterate through each loan in `inexpensive_loans`.\n",
    "            i. Use the csvwriter to write the `loan.values()` to a row in the CSV file.\n",
    "\n",
    "    Hint: Refer to the official documentation for the csv library.\n",
    "    https://docs.python.org/3/library/csv.html#writer-objects\n",
    "\"\"\""
   ]
  },
  {
   "cell_type": "code",
   "execution_count": 24,
   "id": "cbd4af00-fec4-49f8-b5fe-75f89fa45433",
   "metadata": {},
   "outputs": [],
   "source": [
    "# Set the output header\n",
    "header = [\"loan_price\", \"remaining_months\",             # header is a ~ simple list of string values\n",
    "          \"repayment_interval\", \"future_value\"]"
   ]
  },
  {
   "cell_type": "code",
   "execution_count": 25,
   "id": "d0118d3b-88e7-48a0-a38e-5d482ed76c67",
   "metadata": {},
   "outputs": [],
   "source": [
    "# Set the output file path\n",
    "output_path = Path(\"inexpensive_loans.csv\")             # generate object path"
   ]
  },
  {
   "cell_type": "code",
   "execution_count": 26,
   "id": "6a443024-24c4-4e27-ae50-ed682d722eec",
   "metadata": {},
   "outputs": [],
   "source": [
    "# @TODO: Use the csv library and `csv.writer` to write the header row\n",
    "# and each row of `loan.values()` from the `inexpensive_loans` list.\n",
    "\n",
    "# opening the output path in 'read\" AND 'writeable' mode\n",
    "# ‘r+’\tRead+Write - open a file for both reading and writing\n",
    "# newline... for 'special' per textbook/class canvas\n",
    "# delimeter=',' is specified for this exercise, but unnecessary as is default.\n",
    "with open(output_path, 'r+', newline='') as csvfile:     \n",
    "    csvwriter = csv.writer(csvfile, delimiter=',')      # designating/making 'writer'\n",
    "    csvwriter.writerow(header)                          # using writer to write header 'row'\n",
    "    for row in inexpensive_loans:                       # iterate through the list of inexpensive loans temp assign values to variable 'row'\n",
    "        csvwriter.writerow(row.values())                # at each pass through, i.e. iteration writer adds/writes data values to rows in csv file"
   ]
  }
 ],
 "metadata": {
  "kernelspec": {
   "display_name": "Python 3 (ipykernel)",
   "language": "python",
   "name": "python3"
  },
  "language_info": {
   "codemirror_mode": {
    "name": "ipython",
    "version": 3
   },
   "file_extension": ".py",
   "mimetype": "text/x-python",
   "name": "python",
   "nbconvert_exporter": "python",
   "pygments_lexer": "ipython3",
   "version": "3.7.13"
  }
 },
 "nbformat": 4,
 "nbformat_minor": 5
}
