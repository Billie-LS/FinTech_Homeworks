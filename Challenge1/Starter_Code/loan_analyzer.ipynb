{
 "cells": [
  {
   "cell_type": "code",
   "execution_count": 1,
   "id": "28d03e17-98c6-4f47-9554-70168d567789",
   "metadata": {},
   "outputs": [],
   "source": [
    "import csv                # importing csv library\n",
    "import pathlib            # importing pathlib library - potentially redundant, but boot-suspenders style\n",
    "from pathlib import Path  # importing 'Path' tool from pathlib"
   ]
  },
  {
   "cell_type": "code",
   "execution_count": 2,
   "id": "043eb88e-8cbe-42ba-8c12-35180e495b25",
   "metadata": {},
   "outputs": [
    {
     "name": "stdout",
     "output_type": "stream",
     "text": [
      "The total number of loans is 5\n"
     ]
    }
   ],
   "source": [
    "loan_costs = [500, 600, 200, 1000, 450]   # ~ simple list\n",
    "\n",
    "# How many loans are in the list?\n",
    "# @TODO: Use the `len` function to calculate the total number of loans in the list.\n",
    "# Print the number of loans from the list\n",
    "number_of_loans = len(loan_costs)\n",
    "print(f'The total number of loans is {number_of_loans}') # use f-string to use variable to input the value, number of loans is integer and not monetary value"
   ]
  },
  {
   "cell_type": "code",
   "execution_count": 3,
   "id": "103b8eaf-dcda-494d-be23-511b72b88664",
   "metadata": {},
   "outputs": [
    {
     "name": "stdout",
     "output_type": "stream",
     "text": [
      "The sum of all loans is $ 2750.00\n"
     ]
    }
   ],
   "source": [
    "# What is the total of all loans?\n",
    "# @TODO: Use the `sum` function to calculate the total of all loans in the list.\n",
    "# Print the total value of the loans\n",
    "sum_of_loans = sum(loan_costs)\n",
    "print(f'The sum of all loans is ${sum_of_loans: .2f}') # use f-string to use variable to input the value, specify fixed 2 decimal places"
   ]
  },
  {
   "cell_type": "code",
   "execution_count": 4,
   "id": "a5f81959-b335-4515-8ff8-a060aa46baee",
   "metadata": {},
   "outputs": [
    {
     "name": "stdout",
     "output_type": "stream",
     "text": [
      "The average loan cost is $ 550.00\n"
     ]
    }
   ],
   "source": [
    "# What is the average loan amount from the list?\n",
    "# @TODO: Using the sum of all loans and the total number of loans, calculate the average loan price.\n",
    "# Print the average loan amount\n",
    "average_loan_price = sum_of_loans / number_of_loans\n",
    "print(f'The average loan cost is ${average_loan_price: .2f}') # use f-string to use variable to input the value, specify fixed 2 decimal places"
   ]
  },
  {
   "cell_type": "code",
   "execution_count": 5,
   "id": "cda39af1-a0e5-4265-bed3-68e0b50c5985",
   "metadata": {},
   "outputs": [],
   "source": [
    "loan = {\n",
    "    \"loan_price\": 500,\n",
    "    \"remaining_months\": 9,\n",
    "    \"repayment_interval\": \"bullet\",\n",
    "    \"future_value\": 1000,\n",
    "}"
   ]
  },
  {
   "cell_type": "code",
   "execution_count": 6,
   "id": "359e4986-92aa-4633-8e0f-51681ff966cd",
   "metadata": {},
   "outputs": [
    {
     "name": "stdout",
     "output_type": "stream",
     "text": [
      "the future value is  1000.00\n",
      "the remaining months are 9\n"
     ]
    }
   ],
   "source": [
    "# @TODO: Use get() on the dictionary of additional information to extract the Future Value and Remaining Months on the loan.\n",
    "# Print each variable.\n",
    "future_value = loan.get('future_value')\n",
    "remaining_months = loan.get('remaining_months')\n",
    "\n",
    "print(f'the future value is {future_value: .2f}')\n",
    "print(f'the remaining months are {remaining_months}')\n"
   ]
  },
  {
   "cell_type": "code",
   "execution_count": 7,
   "id": "b072a0c2-50ef-4dbe-bb1b-1df94b16915e",
   "metadata": {},
   "outputs": [
    {
     "name": "stdout",
     "output_type": "stream",
     "text": [
      "the fair value is  861.77\n"
     ]
    }
   ],
   "source": [
    "# @TODO: Use the formula for Present Value to calculate a \"fair value\" of the loan.\n",
    "# Use a minimum required return of 20% as the discount rate.\n",
    "#   You'll want to use the **monthly** version of the present value formula.\n",
    "#   HINT: Present Value = Future Value / (1 + Discount_Rate/12) ** remaining_months\n",
    "\n",
    "fair_value = future_value / (1 + 0.20 / 12) ** remaining_months\n",
    "print(f'the fair value is {fair_value: .2f}')\n",
    "present_value = fair_value"
   ]
  },
  {
   "cell_type": "code",
   "execution_count": 8,
   "id": "80c6d8c8-3358-4b6f-b141-48bbcb83e603",
   "metadata": {},
   "outputs": [
    {
     "ename": "TypeError",
     "evalue": "'>=' not supported between instances of 'float' and 'list'",
     "output_type": "error",
     "traceback": [
      "\u001b[0;31m---------------------------------------------------------------------------\u001b[0m",
      "\u001b[0;31mTypeError\u001b[0m                                 Traceback (most recent call last)",
      "\u001b[0;32m/var/folders/t7/x7q1pbqj4ss8841vmphkd2v00000gn/T/ipykernel_30536/1987771897.py\u001b[0m in \u001b[0;36m<module>\u001b[0;34m\u001b[0m\n\u001b[1;32m      4\u001b[0m \u001b[0;31m#    Else, the present value of the loan is less than the loan cost, then print a message that says that the loan is too expensive and not worth the price.\u001b[0m\u001b[0;34m\u001b[0m\u001b[0;34m\u001b[0m\u001b[0;34m\u001b[0m\u001b[0m\n\u001b[1;32m      5\u001b[0m \u001b[0;31m# YOUR CODE HERE!\u001b[0m\u001b[0;34m\u001b[0m\u001b[0;34m\u001b[0m\u001b[0;34m\u001b[0m\u001b[0m\n\u001b[0;32m----> 6\u001b[0;31m \u001b[0;32mif\u001b[0m \u001b[0mpresent_value\u001b[0m \u001b[0;34m>=\u001b[0m \u001b[0mloan_costs\u001b[0m\u001b[0;34m:\u001b[0m\u001b[0;34m\u001b[0m\u001b[0;34m\u001b[0m\u001b[0m\n\u001b[0m\u001b[1;32m      7\u001b[0m     \u001b[0mprint\u001b[0m\u001b[0;34m(\u001b[0m\u001b[0;34m'the loan is worth at least the cost to buy it'\u001b[0m\u001b[0;34m)\u001b[0m\u001b[0;34m,\u001b[0m\u001b[0;34m\u001b[0m\u001b[0;34m\u001b[0m\u001b[0m\n\u001b[1;32m      8\u001b[0m \u001b[0;32melse\u001b[0m\u001b[0;34m:\u001b[0m\u001b[0;34m\u001b[0m\u001b[0;34m\u001b[0m\u001b[0m\n",
      "\u001b[0;31mTypeError\u001b[0m: '>=' not supported between instances of 'float' and 'list'"
     ]
    }
   ],
   "source": [
    "# If Present Value represents what the loan is really worth, does it make sense to buy the loan at its cost?\n",
    "# @TODO: Write a conditional statement (an if-else statement) to decide if the present value represents the loan's fair value.\n",
    "#    If the present value of the loan is greater than or equal to the cost, then print a message that says the loan is worth at least the cost to buy it.\n",
    "#    Else, the present value of the loan is less than the loan cost, then print a message that says that the loan is too expensive and not worth the price.\n",
    "# YOUR CODE HERE!\n",
    "if present_value >= loan_costs:\n",
    "    print('the loan is worth at least the cost to buy it'),\n",
    "else:\n",
    "    print('the loan is too expensive and not worth the price')"
   ]
  },
  {
   "cell_type": "code",
   "execution_count": 9,
   "id": "54ee8f10-7107-4489-8871-10d3c25ba23a",
   "metadata": {},
   "outputs": [],
   "source": [
    "# Given the following loan data, you will need to calculate the present value for the loan\n",
    "new_loan = {\n",
    "    \"loan_price\": 800,\n",
    "    \"remaining_months\": 12,\n",
    "    \"repayment_interval\": \"bullet\",\n",
    "    \"future_value\": 1000,\n",
    "}"
   ]
  },
  {
   "cell_type": "code",
   "execution_count": 10,
   "id": "aa020686-78cd-4136-a7b8-3caa9d73dcd1",
   "metadata": {},
   "outputs": [],
   "source": [
    "# @TODO: Define a new function that will be used to calculate present value.\n",
    "#    This function should include parameters for `future_value`, `remaining_months`, and the `annual_discount_rate`\n",
    "#                HINT: Present Value = Future Value / (1 + Discount_Rate/12) ** remaining_months \n",
    "#    The function should return the `present_value` for the loan.\n",
    "def P_V(future_value, remaining_months, annual_discount_rate):\n",
    "    future_value = new_loan['future_value'],\n",
    "    remaining_months = new_loan['remaining_months'],\n",
    "    annual_discount_rate = 0.2,\n",
    "    present_value = future_value / (1 + annual_discount_rate/12) ** remaining_months,\n",
    "    return present_value\n",
    "    "
   ]
  },
  {
   "cell_type": "code",
   "execution_count": 11,
   "id": "2ed7ac46-0a5b-4928-9b64-a95836943fac",
   "metadata": {},
   "outputs": [
    {
     "name": "stdout",
     "output_type": "stream",
     "text": [
      "The present value of the loan is:  861.77\n"
     ]
    }
   ],
   "source": [
    "# @TODO: Use the function to calculate the present value of the new loan given below.\n",
    "#    Use an `annual_discount_rate` of 0.2 for this new loan calculation.\n",
    "# YOUR CODE HERE!\n",
    "print(f\"The present value of the loan is: {present_value: .2f}\")\n",
    "\n"
   ]
  },
  {
   "cell_type": "code",
   "execution_count": 12,
   "id": "05bf1266-7fec-4649-8710-5534d6765fa5",
   "metadata": {},
   "outputs": [],
   "source": [
    "\"\"\"\n",
    "1. Create a new, empty list called `inexpensive_loans`.\n",
    "2. Use a for loop to select each loan from a list of loans.\n",
    "    a. Inside the for loop, write an if-statement to determine if the loan_price is less than or equal to 500\n",
    "    b. If the loan_price is less than or equal to 500 then append that loan to the `inexpensive_loans` list.\n",
    "3. Print the list of inexpensive_loans.\n",
    "\"\"\"\n",
    "\n",
    "loans = [\n",
    "    {\n",
    "        \"loan_price\": 700,\n",
    "        \"remaining_months\": 9,\n",
    "        \"repayment_interval\": \"monthly\",\n",
    "        \"future_value\": 1000,\n",
    "    },\n",
    "    {\n",
    "        \"loan_price\": 500,\n",
    "        \"remaining_months\": 13,\n",
    "        \"repayment_interval\": \"bullet\",\n",
    "        \"future_value\": 1000,\n",
    "    },\n",
    "    {\n",
    "        \"loan_price\": 200,\n",
    "        \"remaining_months\": 16,\n",
    "        \"repayment_interval\": \"bullet\",\n",
    "        \"future_value\": 1000,\n",
    "    },\n",
    "    {\n",
    "        \"loan_price\": 900,\n",
    "        \"remaining_months\": 16,\n",
    "        \"repayment_interval\": \"bullet\",\n",
    "        \"future_value\": 1000,\n",
    "    },\n",
    "]"
   ]
  },
  {
   "cell_type": "code",
   "execution_count": 13,
   "id": "42773ad5-1ce5-4779-ad79-0a9136dac436",
   "metadata": {},
   "outputs": [],
   "source": [
    "# @TODO: Create an empty list called `inexpensive_loans`\n",
    "inexpensive_loans = []"
   ]
  },
  {
   "cell_type": "code",
   "execution_count": 14,
   "id": "d8c68f0f-b592-41b8-821d-1cf0bd236cba",
   "metadata": {},
   "outputs": [],
   "source": [
    "# @TODO: Loop through all the loans and append any that cost $500 or less to the `inexpensive_loans` list\n",
    "for cheapies in loans:\n",
    "    if cheapies['loan_price'] <= 500:\n",
    "        inexpensive_loans.append(cheapies)"
   ]
  },
  {
   "cell_type": "code",
   "execution_count": 16,
   "id": "84a8d8a0-c8b4-46b1-ae7f-523e191232d8",
   "metadata": {},
   "outputs": [
    {
     "name": "stdout",
     "output_type": "stream",
     "text": [
      "[{'loan_price': 500, 'remaining_months': 13, 'repayment_interval': 'bullet', 'future_value': 1000}, {'loan_price': 200, 'remaining_months': 16, 'repayment_interval': 'bullet', 'future_value': 1000}]\n"
     ]
    }
   ],
   "source": [
    "# @TODO: Print the `inexpensive_loans` list\n",
    "print(inexpensive_loans)"
   ]
  },
  {
   "cell_type": "code",
   "execution_count": 17,
   "id": "cbd4af00-fec4-49f8-b5fe-75f89fa45433",
   "metadata": {},
   "outputs": [],
   "source": [
    "# Set the output header\n",
    "header = [\"loan_price\", \"remaining_months\",             # header is a ~ simple list of string values\n",
    "          \"repayment_interval\", \"future_value\"]"
   ]
  },
  {
   "cell_type": "code",
   "execution_count": 18,
   "id": "d0118d3b-88e7-48a0-a38e-5d482ed76c67",
   "metadata": {},
   "outputs": [],
   "source": [
    "# Set the output file path\n",
    "output_path = Path(\"inexpensive_loans.csv\")             # generate object path"
   ]
  },
  {
   "cell_type": "code",
   "execution_count": 22,
   "id": "6a443024-24c4-4e27-ae50-ed682d722eec",
   "metadata": {},
   "outputs": [],
   "source": [
    "# @TODO: Use the csv library and `csv.writer` to write the header row\n",
    "# and each row of `loan.values()` from the `inexpensive_loans` list.\n",
    "# YOUR CODE HERE!\n",
    "\n",
    "with open(output_path, 'w', newline='') as csvfile:     # opening the output path in 'writeable', newline... for 'special' per textbook/class canvas\n",
    "    csvwriter = csv.writer(csvfile)                     # designating/making 'writer'\n",
    "    csvwriter.writerow(header)                          # using writer to write header 'row'\n",
    "    for row in inexpensive_loans:                       # iterate through the list of inexpensive loans temp assign values to variable 'row'\n",
    "        csvwriter.writerow(row.values())                # at each pass through, i.e. iteration writer adds/writes data values to rows in csv file"
   ]
  },
  {
   "cell_type": "code",
   "execution_count": null,
   "id": "63fe1ada-5bba-4320-a262-110b97679983",
   "metadata": {},
   "outputs": [],
   "source": []
  }
 ],
 "metadata": {
  "kernelspec": {
   "display_name": "Python 3 (ipykernel)",
   "language": "python",
   "name": "python3"
  },
  "language_info": {
   "codemirror_mode": {
    "name": "ipython",
    "version": 3
   },
   "file_extension": ".py",
   "mimetype": "text/x-python",
   "name": "python",
   "nbconvert_exporter": "python",
   "pygments_lexer": "ipython3",
   "version": "3.7.13"
  }
 },
 "nbformat": 4,
 "nbformat_minor": 5
}
