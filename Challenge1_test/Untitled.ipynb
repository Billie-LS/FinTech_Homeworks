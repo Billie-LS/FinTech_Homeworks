{
 "cells": [
  {
   "cell_type": "code",
   "execution_count": 16,
   "id": "ea199c64-71e5-4e02-a3c1-f4e8046b4199",
   "metadata": {},
   "outputs": [
    {
     "name": "stdout",
     "output_type": "stream",
     "text": [
      "with return rate of 0.035 your stock return on investment is $ 1.05\n",
      "with return rate of 0.040 your stock return on investment is $ 1.20\n",
      "with return rate of 0.072 your stock return on investment is $ 2.16\n",
      "with return rate of 0.012 your stock return on investment is $ 0.36\n",
      "with return rate of 0.052 your stock return on investment is $ 1.56\n",
      "your sum total dividend income is $ 6.33\n"
     ]
    }
   ],
   "source": [
    "\"\"\"Racking up the profit.\"\"\"\n",
    "\n",
    "# Suppose each stock price is the same\n",
    "stock_price = 30\n",
    "\n",
    "# But that dividend yields vary across five stocks in your portfolio\n",
    "dividend_yields = [0.035, 0.040, 0.072, 0.012, 0.052]\n",
    "\n",
    "# @TODO: Create a variable to hold tallied dividend income\n",
    "total_dividend_income = 0\n",
    "\n",
    "# @TODO: Create a for loop to calculated and add up all the dividend income\n",
    "for yield_rate in dividend_yields:\n",
    "    dividend_income = yield_rate * stock_price\n",
    "    total_dividend_income = total_dividend_income + dividend_income\n",
    "    print(f\"with return rate of{yield_rate: .3f} your stock return on investment is ${dividend_income: .2f}\")\n",
    "\n",
    "# @TODO: Once it's all done, print the dividend income for the entire portfolio\n",
    "print(f\"your sum total dividend income is ${total_dividend_income: .2f}\")"
   ]
  },
  {
   "cell_type": "code",
   "execution_count": null,
   "id": "74a66f6e-5a70-45a9-aca4-01bebd897bcd",
   "metadata": {},
   "outputs": [],
   "source": []
  }
 ],
 "metadata": {
  "kernelspec": {
   "display_name": "Python 3 (ipykernel)",
   "language": "python",
   "name": "python3"
  },
  "language_info": {
   "codemirror_mode": {
    "name": "ipython",
    "version": 3
   },
   "file_extension": ".py",
   "mimetype": "text/x-python",
   "name": "python",
   "nbconvert_exporter": "python",
   "pygments_lexer": "ipython3",
   "version": "3.7.13"
  }
 },
 "nbformat": 4,
 "nbformat_minor": 5
}
